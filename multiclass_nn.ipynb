{
 "cells": [
  {
   "cell_type": "code",
   "execution_count": 1,
   "id": "c5155a04",
   "metadata": {},
   "outputs": [
    {
     "data": {
      "text/plain": [
       "nn_multiclass_classification (generic function with 1 method)"
      ]
     },
     "execution_count": 1,
     "metadata": {},
     "output_type": "execute_result"
    }
   ],
   "source": [
    "#Exploring multiclass neural network\n",
    "\n",
    "using Flux\n",
    "\n",
    "function nn_multiclass_classification(X, Y, n_classes; numiters=40)\n",
    "\n",
    "    d = size(X,2); m = size(Y,2)\n",
    "\n",
    "    # Feel free to play with this model, add layers, change layer size\n",
    "    # change activation, etc.\n",
    "    model = Chain(\n",
    "        Dense(d, 2*d, relu),\n",
    "        Dense(2*d, n_classes, sigmoid))\n",
    "    # The model outputs n_classes probabilities. We will choose the highest as our classification\n",
    "\n",
    "    data = zip(eachrow(X), eachrow(Y))\n",
    "\t\n",
    "    # logitcrossentropy is used for training classification models\n",
    "    loss(x, y) = logitcrossentropy(model(x), y)\n",
    "\t\n",
    "    # Training\n",
    "    # Gradient descent optimiser with learning rate 0.5\n",
    "    optimiser = Descent(0.5)\n",
    "\n",
    "    # These lines all handle the callback which prints the loss\n",
    "    ctr = 0    \n",
    "    function callback()\n",
    "        if ctr % 128 == 0 # controls the frequency of printing the loss\n",
    "            println(\"Loss: $(sum([loss(x,y) for (x,y) in data]))\")\n",
    "        end\n",
    "        ctr += 1\n",
    "    end\n",
    "    # Done with callback\n",
    "    println(\"Starting training.\")\n",
    "    \n",
    "    #Flux.train!(loss, params(model), train_data, optimiser)\n",
    "\tFlux.@epochs numiters Flux.train!(loss, Flux.params(model), data, optimiser, cb=callback)\n",
    "\n",
    "    return model\n",
    "end"
   ]
  },
  {
   "cell_type": "code",
   "execution_count": 2,
   "id": "9c2bbfc4",
   "metadata": {},
   "outputs": [],
   "source": [
    "# Form: y_hat = g^2(g^1(x))\n",
    "# There are 2 layers.\n",
    "# Layer 1: 30 input, 60 output, relu activation, \n",
    "# A1:16*32, b1:32*1\n",
    "# Output layer: 60 input, 7 output, sigmoid activation\n",
    "# A2:32*7, b2:7*1\n",
    "# There're 775 scalar parameters."
   ]
  },
  {
   "cell_type": "code",
   "execution_count": 2,
   "id": "dcb5dcf3",
   "metadata": {},
   "outputs": [
    {
     "data": {
      "text/plain": [
       "101×17 Matrix{Float64}:\n",
       " 1.0  0.0  0.0  1.0  0.0  0.0  1.0  1.0  …  0.0  0.0  4.0  1.0  0.0  1.0  1.0\n",
       " 0.0  0.0  1.0  0.0  1.0  0.0  1.0  0.0     0.0  0.0  6.0  0.0  0.0  0.0  6.0\n",
       " 1.0  0.0  0.0  1.0  0.0  0.0  0.0  1.0     0.0  0.0  4.0  1.0  0.0  1.0  1.0\n",
       " 0.0  0.0  1.0  0.0  0.0  1.0  1.0  1.0     0.0  1.0  0.0  1.0  0.0  1.0  4.0\n",
       " 1.0  0.0  0.0  1.0  0.0  0.0  1.0  1.0     0.0  0.0  4.0  1.0  0.0  1.0  1.0\n",
       " 0.0  1.0  1.0  0.0  0.0  0.0  0.0  0.0  …  0.0  0.0  2.0  1.0  0.0  1.0  2.0\n",
       " 1.0  0.0  0.0  1.0  0.0  0.0  0.0  1.0     0.0  0.0  2.0  1.0  0.0  0.0  1.0\n",
       " 0.0  0.0  1.0  0.0  0.0  1.0  1.0  0.0     0.0  0.0  4.0  0.0  0.0  0.0  7.0\n",
       " 0.0  0.0  1.0  0.0  0.0  1.0  0.0  1.0     0.0  1.0  0.0  1.0  1.0  0.0  4.0\n",
       " 0.0  1.0  1.0  0.0  1.0  0.0  0.0  0.0     0.0  0.0  2.0  1.0  1.0  0.0  2.0\n",
       " 0.0  0.0  1.0  0.0  0.0  1.0  1.0  0.0  …  0.0  0.0  8.0  0.0  0.0  1.0  7.0\n",
       " 0.0  1.0  1.0  0.0  1.0  1.0  0.0  0.0     0.0  0.0  2.0  1.0  0.0  0.0  2.0\n",
       " 0.0  0.0  1.0  0.0  0.0  1.0  1.0  1.0     0.0  1.0  0.0  1.0  0.0  0.0  4.0\n",
       " ⋮                        ⋮              ⋱  ⋮                        ⋮    \n",
       " 0.0  1.0  1.0  0.0  0.0  0.0  1.0  0.0     0.0  0.0  2.0  1.0  0.0  1.0  2.0\n",
       " 1.0  0.0  0.0  1.0  0.0  0.0  0.0  1.0  …  0.0  0.0  4.0  1.0  0.0  1.0  1.0\n",
       " 1.0  0.0  1.0  0.0  1.0  0.0  0.0  0.0     1.0  0.0  6.0  0.0  1.0  0.0  6.0\n",
       " 1.0  0.0  0.0  1.0  0.0  0.0  0.0  1.0     0.0  0.0  2.0  0.0  0.0  1.0  1.0\n",
       " 1.0  0.0  1.0  0.0  1.0  0.0  0.0  0.0     0.0  0.0  6.0  0.0  0.0  0.0  6.0\n",
       " 0.0  0.0  1.0  0.0  0.0  1.0  1.0  1.0     0.0  1.0  0.0  1.0  0.0  1.0  4.0\n",
       " 1.0  0.0  0.0  1.0  0.0  0.0  0.0  1.0  …  0.0  0.0  4.0  1.0  0.0  1.0  1.0\n",
       " 0.0  0.0  1.0  0.0  0.0  1.0  1.0  1.0     0.0  0.0  4.0  0.0  0.0  0.0  5.0\n",
       " 1.0  0.0  0.0  1.0  0.0  0.0  0.0  1.0     0.0  0.0  4.0  1.0  0.0  0.0  1.0\n",
       " 0.0  0.0  1.0  0.0  0.0  0.0  0.0  0.0     0.0  0.0  0.0  0.0  0.0  0.0  7.0\n",
       " 0.0  0.0  0.0  1.0  0.0  1.0  1.0  1.0     0.0  1.0  0.0  1.0  0.0  1.0  1.0\n",
       " 1.0  0.0  0.0  1.0  0.0  0.0  1.0  1.0  …  0.0  0.0  4.0  1.0  0.0  0.0  1.0"
      ]
     },
     "execution_count": 2,
     "metadata": {},
     "output_type": "execute_result"
    }
   ],
   "source": [
    "using Random\n",
    "Random.seed!(0)\n",
    "\n",
    "include(\"readclassjson.jl\")\n",
    "data = readclassjson(\"zoo.json\")\n",
    "\n",
    "X = data[\"X\"]\n",
    "y = data[\"y\"]\n",
    "\n",
    "df = hcat(X, y)\n",
    "df = df[shuffle(1:end), :]"
   ]
  },
  {
   "cell_type": "code",
   "execution_count": 4,
   "id": "3d3830df",
   "metadata": {},
   "outputs": [
    {
     "data": {
      "text/plain": [
       "11-element Vector{Float64}:\n",
       " 1.0\n",
       " 6.0\n",
       " 1.0\n",
       " 6.0\n",
       " 4.0\n",
       " 1.0\n",
       " 5.0\n",
       " 1.0\n",
       " 7.0\n",
       " 1.0\n",
       " 1.0"
      ]
     },
     "execution_count": 4,
     "metadata": {},
     "output_type": "execute_result"
    }
   ],
   "source": [
    "X_train = df[1:90, 1:16]\n",
    "y_train = df[1:90, 17]\n",
    "\n",
    "X_eval = df[91:101, 1:16]\n",
    "y_eval = df[91:101, 17]"
   ]
  },
  {
   "cell_type": "code",
   "execution_count": 5,
   "id": "ee8f8af9",
   "metadata": {},
   "outputs": [
    {
     "data": {
      "text/plain": [
       "11×7 transpose(OneHotMatrix(::Vector{UInt32})) with eltype Bool:\n",
       " 1  0  0  0  0  0  0\n",
       " 0  0  0  0  0  1  0\n",
       " 1  0  0  0  0  0  0\n",
       " 0  0  0  0  0  1  0\n",
       " 0  0  0  1  0  0  0\n",
       " 1  0  0  0  0  0  0\n",
       " 0  0  0  0  1  0  0\n",
       " 1  0  0  0  0  0  0\n",
       " 0  0  0  0  0  0  1\n",
       " 1  0  0  0  0  0  0\n",
       " 1  0  0  0  0  0  0"
      ]
     },
     "execution_count": 5,
     "metadata": {},
     "output_type": "execute_result"
    }
   ],
   "source": [
    "using Flux: onehotbatch\n",
    "using LinearAlgebra\n",
    "oh_y_train = transpose(onehotbatch(y_train, 1:7))\n",
    "oh_y_eval = transpose(onehotbatch(y_eval, 1:7))"
   ]
  },
  {
   "cell_type": "code",
   "execution_count": 6,
   "id": "1c657846",
   "metadata": {},
   "outputs": [
    {
     "name": "stdout",
     "output_type": "stream",
     "text": [
      "Starting training.\n",
      "Loss: 157.34704780662432\n",
      "Loss: 131.95798971235558\n",
      "Loss: 117.67018785595616\n",
      "Loss: 116.64583801719067\n",
      "Loss: 113.40637195228992\n",
      "Loss: 111.62733317936026\n",
      "Loss: 111.25739498842673\n",
      "Loss: 111.36203003174218\n",
      "Loss: 111.21900343589202\n",
      "Loss: 112.16770168939797\n",
      "Loss: 111.00145423187939\n",
      "Loss: 110.32805390714424\n",
      "Loss: 110.08663963510052\n",
      "Loss: 109.99214987976954\n",
      "Loss: 109.73728415643173\n",
      "Loss: 109.9245545731285\n",
      "Loss: 110.29523810242743\n",
      "Loss: 109.74570828643144\n",
      "Loss: 109.4251290667666\n",
      "Loss: 109.80636662213217\n",
      "Loss: 109.40812732142328\n",
      "Loss: 109.50122072624521\n",
      "Loss: 109.22094764315032\n",
      "Loss: 109.35621126571516\n",
      "Loss: 110.5378414308074\n",
      "Loss: 109.91501869149582\n",
      "Loss: 109.30002761012895\n",
      "Loss: 109.14050597017932\n",
      "Loss: 109.1337480950086\n"
     ]
    },
    {
     "name": "stderr",
     "output_type": "stream",
     "text": [
      "┌ Info: Epoch 1\n",
      "└ @ Main C:\\Users\\surface\\.julia\\packages\\Flux\\6Q5r4\\src\\optimise\\train.jl:154\n",
      "┌ Info: Epoch 2\n",
      "└ @ Main C:\\Users\\surface\\.julia\\packages\\Flux\\6Q5r4\\src\\optimise\\train.jl:154\n",
      "┌ Info: Epoch 3\n",
      "└ @ Main C:\\Users\\surface\\.julia\\packages\\Flux\\6Q5r4\\src\\optimise\\train.jl:154\n",
      "┌ Info: Epoch 4\n",
      "└ @ Main C:\\Users\\surface\\.julia\\packages\\Flux\\6Q5r4\\src\\optimise\\train.jl:154\n",
      "┌ Info: Epoch 5\n",
      "└ @ Main C:\\Users\\surface\\.julia\\packages\\Flux\\6Q5r4\\src\\optimise\\train.jl:154\n",
      "┌ Info: Epoch 6\n",
      "└ @ Main C:\\Users\\surface\\.julia\\packages\\Flux\\6Q5r4\\src\\optimise\\train.jl:154\n",
      "┌ Info: Epoch 7\n",
      "└ @ Main C:\\Users\\surface\\.julia\\packages\\Flux\\6Q5r4\\src\\optimise\\train.jl:154\n",
      "┌ Info: Epoch 8\n",
      "└ @ Main C:\\Users\\surface\\.julia\\packages\\Flux\\6Q5r4\\src\\optimise\\train.jl:154\n",
      "┌ Info: Epoch 9\n",
      "└ @ Main C:\\Users\\surface\\.julia\\packages\\Flux\\6Q5r4\\src\\optimise\\train.jl:154\n",
      "┌ Info: Epoch 10\n",
      "└ @ Main C:\\Users\\surface\\.julia\\packages\\Flux\\6Q5r4\\src\\optimise\\train.jl:154\n",
      "┌ Info: Epoch 11\n",
      "└ @ Main C:\\Users\\surface\\.julia\\packages\\Flux\\6Q5r4\\src\\optimise\\train.jl:154\n",
      "┌ Info: Epoch 12\n",
      "└ @ Main C:\\Users\\surface\\.julia\\packages\\Flux\\6Q5r4\\src\\optimise\\train.jl:154\n",
      "┌ Info: Epoch 13\n",
      "└ @ Main C:\\Users\\surface\\.julia\\packages\\Flux\\6Q5r4\\src\\optimise\\train.jl:154\n",
      "┌ Info: Epoch 14\n",
      "└ @ Main C:\\Users\\surface\\.julia\\packages\\Flux\\6Q5r4\\src\\optimise\\train.jl:154\n",
      "┌ Info: Epoch 15\n",
      "└ @ Main C:\\Users\\surface\\.julia\\packages\\Flux\\6Q5r4\\src\\optimise\\train.jl:154\n",
      "┌ Info: Epoch 16\n",
      "└ @ Main C:\\Users\\surface\\.julia\\packages\\Flux\\6Q5r4\\src\\optimise\\train.jl:154\n",
      "┌ Info: Epoch 17\n",
      "└ @ Main C:\\Users\\surface\\.julia\\packages\\Flux\\6Q5r4\\src\\optimise\\train.jl:154\n",
      "┌ Info: Epoch 18\n",
      "└ @ Main C:\\Users\\surface\\.julia\\packages\\Flux\\6Q5r4\\src\\optimise\\train.jl:154\n",
      "┌ Info: Epoch 19\n",
      "└ @ Main C:\\Users\\surface\\.julia\\packages\\Flux\\6Q5r4\\src\\optimise\\train.jl:154\n",
      "┌ Info: Epoch 20\n",
      "└ @ Main C:\\Users\\surface\\.julia\\packages\\Flux\\6Q5r4\\src\\optimise\\train.jl:154\n",
      "┌ Info: Epoch 21\n",
      "└ @ Main C:\\Users\\surface\\.julia\\packages\\Flux\\6Q5r4\\src\\optimise\\train.jl:154\n",
      "┌ Info: Epoch 22\n",
      "└ @ Main C:\\Users\\surface\\.julia\\packages\\Flux\\6Q5r4\\src\\optimise\\train.jl:154\n",
      "┌ Info: Epoch 23\n",
      "└ @ Main C:\\Users\\surface\\.julia\\packages\\Flux\\6Q5r4\\src\\optimise\\train.jl:154\n",
      "┌ Info: Epoch 24\n",
      "└ @ Main C:\\Users\\surface\\.julia\\packages\\Flux\\6Q5r4\\src\\optimise\\train.jl:154\n",
      "┌ Info: Epoch 25\n",
      "└ @ Main C:\\Users\\surface\\.julia\\packages\\Flux\\6Q5r4\\src\\optimise\\train.jl:154\n",
      "┌ Info: Epoch 26\n",
      "└ @ Main C:\\Users\\surface\\.julia\\packages\\Flux\\6Q5r4\\src\\optimise\\train.jl:154\n",
      "┌ Info: Epoch 27\n",
      "└ @ Main C:\\Users\\surface\\.julia\\packages\\Flux\\6Q5r4\\src\\optimise\\train.jl:154\n",
      "┌ Info: Epoch 28\n",
      "└ @ Main C:\\Users\\surface\\.julia\\packages\\Flux\\6Q5r4\\src\\optimise\\train.jl:154\n",
      "┌ Info: Epoch 29\n",
      "└ @ Main C:\\Users\\surface\\.julia\\packages\\Flux\\6Q5r4\\src\\optimise\\train.jl:154\n",
      "┌ Info: Epoch 30\n",
      "└ @ Main C:\\Users\\surface\\.julia\\packages\\Flux\\6Q5r4\\src\\optimise\\train.jl:154\n",
      "┌ Info: Epoch 31\n",
      "└ @ Main C:\\Users\\surface\\.julia\\packages\\Flux\\6Q5r4\\src\\optimise\\train.jl:154\n",
      "┌ Info: Epoch 32\n",
      "└ @ Main C:\\Users\\surface\\.julia\\packages\\Flux\\6Q5r4\\src\\optimise\\train.jl:154\n",
      "┌ Info: Epoch 33\n",
      "└ @ Main C:\\Users\\surface\\.julia\\packages\\Flux\\6Q5r4\\src\\optimise\\train.jl:154\n",
      "┌ Info: Epoch 34\n",
      "└ @ Main C:\\Users\\surface\\.julia\\packages\\Flux\\6Q5r4\\src\\optimise\\train.jl:154\n",
      "┌ Info: Epoch 35\n",
      "└ @ Main C:\\Users\\surface\\.julia\\packages\\Flux\\6Q5r4\\src\\optimise\\train.jl:154\n",
      "┌ Info: Epoch 36\n",
      "└ @ Main C:\\Users\\surface\\.julia\\packages\\Flux\\6Q5r4\\src\\optimise\\train.jl:154\n",
      "┌ Info: Epoch 37\n",
      "└ @ Main C:\\Users\\surface\\.julia\\packages\\Flux\\6Q5r4\\src\\optimise\\train.jl:154\n",
      "┌ Info: Epoch 38\n",
      "└ @ Main C:\\Users\\surface\\.julia\\packages\\Flux\\6Q5r4\\src\\optimise\\train.jl:154\n",
      "┌ Info: Epoch 39\n",
      "└ @ Main C:\\Users\\surface\\.julia\\packages\\Flux\\6Q5r4\\src\\optimise\\train.jl:154\n",
      "┌ Info: Epoch 40\n",
      "└ @ Main C:\\Users\\surface\\.julia\\packages\\Flux\\6Q5r4\\src\\optimise\\train.jl:154\n"
     ]
    },
    {
     "data": {
      "text/plain": [
       "Chain(\n",
       "  Dense(16 => 32, relu),                \u001b[90m# 544 parameters\u001b[39m\n",
       "  Dense(32 => 7, σ),                    \u001b[90m# 231 parameters\u001b[39m\n",
       ") \u001b[90m                  # Total: 4 arrays, \u001b[39m775 parameters, 3.277 KiB."
      ]
     },
     "execution_count": 6,
     "metadata": {},
     "output_type": "execute_result"
    }
   ],
   "source": [
    "using Flux: logitcrossentropy\n",
    "model = nn_multiclass_classification(X_train, oh_y_train, 7)"
   ]
  },
  {
   "cell_type": "code",
   "execution_count": 10,
   "id": "a9356125",
   "metadata": {},
   "outputs": [
    {
     "data": {
      "text/plain": [
       "7×7 Matrix{Float64}:\n",
       " 35.0   0.0  0.0   0.0  1.0  0.0  0.0\n",
       "  0.0  20.0  1.0   0.0  0.0  0.0  0.0\n",
       "  0.0   0.0  4.0   0.0  1.0  0.0  0.0\n",
       "  0.0   0.0  0.0  12.0  0.0  0.0  0.0\n",
       "  0.0   0.0  0.0   0.0  0.0  0.0  0.0\n",
       "  0.0   0.0  0.0   0.0  0.0  0.0  0.0\n",
       "  0.0   0.0  0.0   0.0  1.0  6.0  9.0"
      ]
     },
     "metadata": {},
     "output_type": "display_data"
    },
    {
     "data": {
      "text/plain": [
       "7×7 Matrix{Float64}:\n",
       " 6.0  0.0  0.0  0.0  1.0  0.0  0.0\n",
       " 0.0  0.0  0.0  0.0  0.0  0.0  0.0\n",
       " 0.0  0.0  0.0  0.0  0.0  0.0  0.0\n",
       " 0.0  0.0  0.0  1.0  0.0  0.0  0.0\n",
       " 0.0  0.0  0.0  0.0  0.0  0.0  0.0\n",
       " 0.0  0.0  0.0  0.0  0.0  0.0  0.0\n",
       " 0.0  0.0  0.0  0.0  0.0  2.0  1.0"
      ]
     },
     "metadata": {},
     "output_type": "display_data"
    },
    {
     "name": "stdout",
     "output_type": "stream",
     "text": [
      "0.8888888888888888\n",
      "0.7272727272727273\n"
     ]
    }
   ],
   "source": [
    "function confusionMatrix(y_hat, y)\n",
    "    cm = zeros(7, 7)\n",
    "    for i in 1:size(y, 1)\n",
    "        temp = y_hat[7*i-6:7*i]\n",
    "        pred = argmax(temp)\n",
    "        cm[pred, Int(y[i])] += 1\n",
    "    end\n",
    "    return cm\n",
    "end\n",
    "\n",
    "function accuracy(cm, y)\n",
    "    count = 0\n",
    "    for i in 1:size(cm, 1)\n",
    "        count += cm[i, i]\n",
    "    end\n",
    "    return count / size(y, 1)\n",
    "end\n",
    "\n",
    "predictall(model,U) = vcat([model(x) for x in eachrow(U)]...)\n",
    "\n",
    "cm_train = confusionMatrix(predictall(model,X_train), y_train)\n",
    "cm_eval = confusionMatrix(predictall(model,X_eval), y_eval)\n",
    "\n",
    "display(cm_train)\n",
    "display(cm_eval)\n",
    "\n",
    "println(accuracy(cm_train, y_train))\n",
    "println(accuracy(cm_eval, y_eval))"
   ]
  },
  {
   "cell_type": "code",
   "execution_count": 11,
   "id": "a9aac14c",
   "metadata": {},
   "outputs": [
    {
     "data": {
      "text/plain": [
       "nn_multiclass_classification_more (generic function with 1 method)"
      ]
     },
     "execution_count": 11,
     "metadata": {},
     "output_type": "execute_result"
    }
   ],
   "source": [
    "function nn_multiclass_classification_more(X, Y, n_classes; numiters=40)\n",
    "\n",
    "    d = size(X,2); m = size(Y,2)\n",
    "\n",
    "    # Feel free to play with this model, add layers, change layer size\n",
    "    # change activation, etc.\n",
    "    model = Chain(\n",
    "        Dense(d, 2*d, relu),\n",
    "        Dense(2*d, 2*d, relu),\n",
    "        Dense(2*d, n_classes, sigmoid))\n",
    "    # The model outputs n_classes probabilities. We will choose the highest as our classification\n",
    "\n",
    "    data = zip(eachrow(X), eachrow(Y))\n",
    "\t\n",
    "    # logitcrossentropy is used for training classification models\n",
    "    loss(x, y) = logitcrossentropy(model(x), y)\n",
    "\t\n",
    "    # Training\n",
    "    # Gradient descent optimiser with learning rate 0.5\n",
    "    optimiser = Descent(0.5)\n",
    "\n",
    "    # These lines all handle the callback which prints the loss\n",
    "    ctr = 0    \n",
    "    function callback()\n",
    "        if ctr % 128 == 0 # controls the frequency of printing the loss\n",
    "            println(\"Loss: $(sum([loss(x,y) for (x,y) in data]))\")\n",
    "        end\n",
    "        ctr += 1\n",
    "    end\n",
    "    # Done with callback\n",
    "    println(\"Starting training.\")\n",
    "    \n",
    "    #Flux.train!(loss, params(model), train_data, optimiser)\n",
    "\tFlux.@epochs numiters Flux.train!(loss, Flux.params(model), data, optimiser, cb=callback)\n",
    "\n",
    "    return model\n",
    "end"
   ]
  },
  {
   "cell_type": "code",
   "execution_count": 12,
   "id": "c399e19d",
   "metadata": {},
   "outputs": [
    {
     "name": "stdout",
     "output_type": "stream",
     "text": [
      "Starting training.\n",
      "Loss: 162.0292399847118\n",
      "Loss: 143.07743889834362\n",
      "Loss: 150.70040312492304\n",
      "Loss: 144.90206905109062\n",
      "Loss: 137.18864256833055\n",
      "Loss: 122.65846649747076\n",
      "Loss: 132.74232749815883\n",
      "Loss: 119.25879254511878\n",
      "Loss: 118.91526613088192\n",
      "Loss: 119.1094269726816\n",
      "Loss: 118.94332360627754\n",
      "Loss: 118.31977822896822\n",
      "Loss: 118.92100836999421\n",
      "Loss: 115.24382687183659\n",
      "Loss: 118.1918881884068\n",
      "Loss: 118.18301707707121\n",
      "Loss: 118.17568720758449\n",
      "Loss: 118.17230253049365\n",
      "Loss: 118.16940328212686\n",
      "Loss: 118.16844068731885\n",
      "Loss: 118.16594125105667\n",
      "Loss: 118.16416670997579\n",
      "Loss: 118.16311671133131\n",
      "Loss: 118.1606110032803\n",
      "Loss: 118.1596203205116\n",
      "Loss: 118.15883988861056\n",
      "Loss: 118.15120963715523\n",
      "Loss: 118.15137404127078\n",
      "Loss: 118.1630017456022\n"
     ]
    },
    {
     "name": "stderr",
     "output_type": "stream",
     "text": [
      "┌ Info: Epoch 1\n",
      "└ @ Main C:\\Users\\surface\\.julia\\packages\\Flux\\6Q5r4\\src\\optimise\\train.jl:154\n",
      "┌ Info: Epoch 2\n",
      "└ @ Main C:\\Users\\surface\\.julia\\packages\\Flux\\6Q5r4\\src\\optimise\\train.jl:154\n",
      "┌ Info: Epoch 3\n",
      "└ @ Main C:\\Users\\surface\\.julia\\packages\\Flux\\6Q5r4\\src\\optimise\\train.jl:154\n",
      "┌ Info: Epoch 4\n",
      "└ @ Main C:\\Users\\surface\\.julia\\packages\\Flux\\6Q5r4\\src\\optimise\\train.jl:154\n",
      "┌ Info: Epoch 5\n",
      "└ @ Main C:\\Users\\surface\\.julia\\packages\\Flux\\6Q5r4\\src\\optimise\\train.jl:154\n",
      "┌ Info: Epoch 6\n",
      "└ @ Main C:\\Users\\surface\\.julia\\packages\\Flux\\6Q5r4\\src\\optimise\\train.jl:154\n",
      "┌ Info: Epoch 7\n",
      "└ @ Main C:\\Users\\surface\\.julia\\packages\\Flux\\6Q5r4\\src\\optimise\\train.jl:154\n",
      "┌ Info: Epoch 8\n",
      "└ @ Main C:\\Users\\surface\\.julia\\packages\\Flux\\6Q5r4\\src\\optimise\\train.jl:154\n",
      "┌ Info: Epoch 9\n",
      "└ @ Main C:\\Users\\surface\\.julia\\packages\\Flux\\6Q5r4\\src\\optimise\\train.jl:154\n",
      "┌ Info: Epoch 10\n",
      "└ @ Main C:\\Users\\surface\\.julia\\packages\\Flux\\6Q5r4\\src\\optimise\\train.jl:154\n",
      "┌ Info: Epoch 11\n",
      "└ @ Main C:\\Users\\surface\\.julia\\packages\\Flux\\6Q5r4\\src\\optimise\\train.jl:154\n",
      "┌ Info: Epoch 12\n",
      "└ @ Main C:\\Users\\surface\\.julia\\packages\\Flux\\6Q5r4\\src\\optimise\\train.jl:154\n",
      "┌ Info: Epoch 13\n",
      "└ @ Main C:\\Users\\surface\\.julia\\packages\\Flux\\6Q5r4\\src\\optimise\\train.jl:154\n",
      "┌ Info: Epoch 14\n",
      "└ @ Main C:\\Users\\surface\\.julia\\packages\\Flux\\6Q5r4\\src\\optimise\\train.jl:154\n",
      "┌ Info: Epoch 15\n",
      "└ @ Main C:\\Users\\surface\\.julia\\packages\\Flux\\6Q5r4\\src\\optimise\\train.jl:154\n",
      "┌ Info: Epoch 16\n",
      "└ @ Main C:\\Users\\surface\\.julia\\packages\\Flux\\6Q5r4\\src\\optimise\\train.jl:154\n",
      "┌ Info: Epoch 17\n",
      "└ @ Main C:\\Users\\surface\\.julia\\packages\\Flux\\6Q5r4\\src\\optimise\\train.jl:154\n",
      "┌ Info: Epoch 18\n",
      "└ @ Main C:\\Users\\surface\\.julia\\packages\\Flux\\6Q5r4\\src\\optimise\\train.jl:154\n",
      "┌ Info: Epoch 19\n",
      "└ @ Main C:\\Users\\surface\\.julia\\packages\\Flux\\6Q5r4\\src\\optimise\\train.jl:154\n",
      "┌ Info: Epoch 20\n",
      "└ @ Main C:\\Users\\surface\\.julia\\packages\\Flux\\6Q5r4\\src\\optimise\\train.jl:154\n",
      "┌ Info: Epoch 21\n",
      "└ @ Main C:\\Users\\surface\\.julia\\packages\\Flux\\6Q5r4\\src\\optimise\\train.jl:154\n",
      "┌ Info: Epoch 22\n",
      "└ @ Main C:\\Users\\surface\\.julia\\packages\\Flux\\6Q5r4\\src\\optimise\\train.jl:154\n",
      "┌ Info: Epoch 23\n",
      "└ @ Main C:\\Users\\surface\\.julia\\packages\\Flux\\6Q5r4\\src\\optimise\\train.jl:154\n",
      "┌ Info: Epoch 24\n",
      "└ @ Main C:\\Users\\surface\\.julia\\packages\\Flux\\6Q5r4\\src\\optimise\\train.jl:154\n",
      "┌ Info: Epoch 25\n",
      "└ @ Main C:\\Users\\surface\\.julia\\packages\\Flux\\6Q5r4\\src\\optimise\\train.jl:154\n",
      "┌ Info: Epoch 26\n",
      "└ @ Main C:\\Users\\surface\\.julia\\packages\\Flux\\6Q5r4\\src\\optimise\\train.jl:154\n",
      "┌ Info: Epoch 27\n",
      "└ @ Main C:\\Users\\surface\\.julia\\packages\\Flux\\6Q5r4\\src\\optimise\\train.jl:154\n",
      "┌ Info: Epoch 28\n",
      "└ @ Main C:\\Users\\surface\\.julia\\packages\\Flux\\6Q5r4\\src\\optimise\\train.jl:154\n",
      "┌ Info: Epoch 29\n",
      "└ @ Main C:\\Users\\surface\\.julia\\packages\\Flux\\6Q5r4\\src\\optimise\\train.jl:154\n",
      "┌ Info: Epoch 30\n",
      "└ @ Main C:\\Users\\surface\\.julia\\packages\\Flux\\6Q5r4\\src\\optimise\\train.jl:154\n",
      "┌ Info: Epoch 31\n",
      "└ @ Main C:\\Users\\surface\\.julia\\packages\\Flux\\6Q5r4\\src\\optimise\\train.jl:154\n",
      "┌ Info: Epoch 32\n",
      "└ @ Main C:\\Users\\surface\\.julia\\packages\\Flux\\6Q5r4\\src\\optimise\\train.jl:154\n",
      "┌ Info: Epoch 33\n",
      "└ @ Main C:\\Users\\surface\\.julia\\packages\\Flux\\6Q5r4\\src\\optimise\\train.jl:154\n",
      "┌ Info: Epoch 34\n",
      "└ @ Main C:\\Users\\surface\\.julia\\packages\\Flux\\6Q5r4\\src\\optimise\\train.jl:154\n",
      "┌ Info: Epoch 35\n",
      "└ @ Main C:\\Users\\surface\\.julia\\packages\\Flux\\6Q5r4\\src\\optimise\\train.jl:154\n",
      "┌ Info: Epoch 36\n",
      "└ @ Main C:\\Users\\surface\\.julia\\packages\\Flux\\6Q5r4\\src\\optimise\\train.jl:154\n",
      "┌ Info: Epoch 37\n",
      "└ @ Main C:\\Users\\surface\\.julia\\packages\\Flux\\6Q5r4\\src\\optimise\\train.jl:154\n",
      "┌ Info: Epoch 38\n",
      "└ @ Main C:\\Users\\surface\\.julia\\packages\\Flux\\6Q5r4\\src\\optimise\\train.jl:154\n",
      "┌ Info: Epoch 39\n",
      "└ @ Main C:\\Users\\surface\\.julia\\packages\\Flux\\6Q5r4\\src\\optimise\\train.jl:154\n",
      "┌ Info: Epoch 40\n",
      "└ @ Main C:\\Users\\surface\\.julia\\packages\\Flux\\6Q5r4\\src\\optimise\\train.jl:154\n"
     ]
    },
    {
     "data": {
      "text/plain": [
       "Chain(\n",
       "  Dense(16 => 32, relu),                \u001b[90m# 544 parameters\u001b[39m\n",
       "  Dense(32 => 32, relu),                \u001b[90m# 1_056 parameters\u001b[39m\n",
       "  Dense(32 => 7, σ),                    \u001b[90m# 231 parameters\u001b[39m\n",
       ") \u001b[90m                  # Total: 6 arrays, \u001b[39m1_831 parameters, 7.527 KiB."
      ]
     },
     "execution_count": 12,
     "metadata": {},
     "output_type": "execute_result"
    }
   ],
   "source": [
    "model_2 = nn_multiclass_classification_more(X_train, oh_y_train, 7)"
   ]
  },
  {
   "cell_type": "code",
   "execution_count": 13,
   "id": "69872174",
   "metadata": {},
   "outputs": [
    {
     "name": "stdout",
     "output_type": "stream",
     "text": [
      "0.8555555555555555\n",
      "0.7272727272727273\n"
     ]
    }
   ],
   "source": [
    "cm_train_2 = confusionMatrix(predictall(model_2,X_train), y_train)\n",
    "cm_eval_2 = confusionMatrix(predictall(model_2,X_eval), y_eval)\n",
    "\n",
    "println(accuracy(cm_train_2, y_train))\n",
    "println(accuracy(cm_eval_2, y_eval))"
   ]
  },
  {
   "cell_type": "code",
   "execution_count": 19,
   "id": "06ca1d0e",
   "metadata": {},
   "outputs": [],
   "source": [
    "# I added a hidden layer to the neural network: Dense(2*d, 2*d, relu).\n",
    "# The training accuracy gets worse, but the test accuracy stays the same.\n",
    "# This might be because we have too many parameters and not enough data,\n",
    "# So the model cannot learn as well."
   ]
  },
  {
   "cell_type": "code",
   "execution_count": 14,
   "id": "96833578",
   "metadata": {},
   "outputs": [
    {
     "data": {
      "text/plain": [
       "nn_multiclass_classification_less (generic function with 1 method)"
      ]
     },
     "execution_count": 14,
     "metadata": {},
     "output_type": "execute_result"
    }
   ],
   "source": [
    "function nn_multiclass_classification_less(X, Y, n_classes; numiters=40)\n",
    "\n",
    "    d = size(X,2); m = size(Y,2)\n",
    "\n",
    "    # Feel free to play with this model, add layers, change layer size\n",
    "    # change activation, etc.\n",
    "    model = Chain(\n",
    "        Dense(d, n_classes, sigmoid))\n",
    "    # The model outputs n_classes probabilities. We will choose the highest as our classification\n",
    "\n",
    "    data = zip(eachrow(X), eachrow(Y))\n",
    "\t\n",
    "    # logitcrossentropy is used for training classification models\n",
    "    loss(x, y) = logitcrossentropy(model(x), y)\n",
    "\t\n",
    "    # Training\n",
    "    # Gradient descent optimiser with learning rate 0.5\n",
    "    optimiser = Descent(0.5)\n",
    "\n",
    "    # These lines all handle the callback which prints the loss\n",
    "    ctr = 0    \n",
    "    function callback()\n",
    "        if ctr % 128 == 0 # controls the frequency of printing the loss\n",
    "            println(\"Loss: $(sum([loss(x,y) for (x,y) in data]))\")\n",
    "        end\n",
    "        ctr += 1\n",
    "    end\n",
    "    # Done with callback\n",
    "    println(\"Starting training.\")\n",
    "    \n",
    "    #Flux.train!(loss, params(model), train_data, optimiser)\n",
    "\tFlux.@epochs numiters Flux.train!(loss, Flux.params(model), data, optimiser, cb=callback)\n",
    "\n",
    "    return model\n",
    "end"
   ]
  },
  {
   "cell_type": "code",
   "execution_count": 15,
   "id": "9717d17d",
   "metadata": {},
   "outputs": [
    {
     "name": "stdout",
     "output_type": "stream",
     "text": [
      "Starting training.\n",
      "Loss: 168.99467729630896\n",
      "Loss: 129.9828274417174\n",
      "Loss: 123.94971038792046\n",
      "Loss: 121.35492404357876\n",
      "Loss: 121.07311396076857\n",
      "Loss: 119.42729731934124\n",
      "Loss: 118.4225577849057\n",
      "Loss: 118.36988161533715\n",
      "Loss: 117.64579090361329\n",
      "Loss: 117.80650562338886\n",
      "Loss: 117.15258458267427\n",
      "Loss: 116.66122687439197\n",
      "Loss: 116.63354367403883\n",
      "Loss: 116.34522575589921\n",
      "Loss: 116.33707216037855\n",
      "Loss: 115.99467273393634\n",
      "Loss: 116.34059431065242\n",
      "Loss: 115.82786614479862\n",
      "Loss: 115.62444630517587\n",
      "Loss: 115.59731614546223\n",
      "Loss: 115.57808958593718\n",
      "Loss: 115.69612621721606\n",
      "Loss: 115.3033128538939\n",
      "Loss: 115.56367257356777\n",
      "Loss: 115.31996061399127\n",
      "Loss: 115.31957185320793\n",
      "Loss: 115.24072256896909\n",
      "Loss: 115.13502005566284\n",
      "Loss: 115.21690500634419\n"
     ]
    },
    {
     "name": "stderr",
     "output_type": "stream",
     "text": [
      "┌ Info: Epoch 1\n",
      "└ @ Main C:\\Users\\surface\\.julia\\packages\\Flux\\6Q5r4\\src\\optimise\\train.jl:154\n",
      "┌ Info: Epoch 2\n",
      "└ @ Main C:\\Users\\surface\\.julia\\packages\\Flux\\6Q5r4\\src\\optimise\\train.jl:154\n",
      "┌ Info: Epoch 3\n",
      "└ @ Main C:\\Users\\surface\\.julia\\packages\\Flux\\6Q5r4\\src\\optimise\\train.jl:154\n",
      "┌ Info: Epoch 4\n",
      "└ @ Main C:\\Users\\surface\\.julia\\packages\\Flux\\6Q5r4\\src\\optimise\\train.jl:154\n",
      "┌ Info: Epoch 5\n",
      "└ @ Main C:\\Users\\surface\\.julia\\packages\\Flux\\6Q5r4\\src\\optimise\\train.jl:154\n",
      "┌ Info: Epoch 6\n",
      "└ @ Main C:\\Users\\surface\\.julia\\packages\\Flux\\6Q5r4\\src\\optimise\\train.jl:154\n",
      "┌ Info: Epoch 7\n",
      "└ @ Main C:\\Users\\surface\\.julia\\packages\\Flux\\6Q5r4\\src\\optimise\\train.jl:154\n",
      "┌ Info: Epoch 8\n",
      "└ @ Main C:\\Users\\surface\\.julia\\packages\\Flux\\6Q5r4\\src\\optimise\\train.jl:154\n",
      "┌ Info: Epoch 9\n",
      "└ @ Main C:\\Users\\surface\\.julia\\packages\\Flux\\6Q5r4\\src\\optimise\\train.jl:154\n",
      "┌ Info: Epoch 10\n",
      "└ @ Main C:\\Users\\surface\\.julia\\packages\\Flux\\6Q5r4\\src\\optimise\\train.jl:154\n",
      "┌ Info: Epoch 11\n",
      "└ @ Main C:\\Users\\surface\\.julia\\packages\\Flux\\6Q5r4\\src\\optimise\\train.jl:154\n",
      "┌ Info: Epoch 12\n",
      "└ @ Main C:\\Users\\surface\\.julia\\packages\\Flux\\6Q5r4\\src\\optimise\\train.jl:154\n",
      "┌ Info: Epoch 13\n",
      "└ @ Main C:\\Users\\surface\\.julia\\packages\\Flux\\6Q5r4\\src\\optimise\\train.jl:154\n",
      "┌ Info: Epoch 14\n",
      "└ @ Main C:\\Users\\surface\\.julia\\packages\\Flux\\6Q5r4\\src\\optimise\\train.jl:154\n",
      "┌ Info: Epoch 15\n",
      "└ @ Main C:\\Users\\surface\\.julia\\packages\\Flux\\6Q5r4\\src\\optimise\\train.jl:154\n",
      "┌ Info: Epoch 16\n",
      "└ @ Main C:\\Users\\surface\\.julia\\packages\\Flux\\6Q5r4\\src\\optimise\\train.jl:154\n",
      "┌ Info: Epoch 17\n",
      "└ @ Main C:\\Users\\surface\\.julia\\packages\\Flux\\6Q5r4\\src\\optimise\\train.jl:154\n",
      "┌ Info: Epoch 18\n",
      "└ @ Main C:\\Users\\surface\\.julia\\packages\\Flux\\6Q5r4\\src\\optimise\\train.jl:154\n",
      "┌ Info: Epoch 19\n",
      "└ @ Main C:\\Users\\surface\\.julia\\packages\\Flux\\6Q5r4\\src\\optimise\\train.jl:154\n",
      "┌ Info: Epoch 20\n",
      "└ @ Main C:\\Users\\surface\\.julia\\packages\\Flux\\6Q5r4\\src\\optimise\\train.jl:154\n",
      "┌ Info: Epoch 21\n",
      "└ @ Main C:\\Users\\surface\\.julia\\packages\\Flux\\6Q5r4\\src\\optimise\\train.jl:154\n",
      "┌ Info: Epoch 22\n",
      "└ @ Main C:\\Users\\surface\\.julia\\packages\\Flux\\6Q5r4\\src\\optimise\\train.jl:154\n",
      "┌ Info: Epoch 23\n",
      "└ @ Main C:\\Users\\surface\\.julia\\packages\\Flux\\6Q5r4\\src\\optimise\\train.jl:154\n",
      "┌ Info: Epoch 24\n",
      "└ @ Main C:\\Users\\surface\\.julia\\packages\\Flux\\6Q5r4\\src\\optimise\\train.jl:154\n",
      "┌ Info: Epoch 25\n",
      "└ @ Main C:\\Users\\surface\\.julia\\packages\\Flux\\6Q5r4\\src\\optimise\\train.jl:154\n",
      "┌ Info: Epoch 26\n",
      "└ @ Main C:\\Users\\surface\\.julia\\packages\\Flux\\6Q5r4\\src\\optimise\\train.jl:154\n",
      "┌ Info: Epoch 27\n",
      "└ @ Main C:\\Users\\surface\\.julia\\packages\\Flux\\6Q5r4\\src\\optimise\\train.jl:154\n",
      "┌ Info: Epoch 28\n",
      "└ @ Main C:\\Users\\surface\\.julia\\packages\\Flux\\6Q5r4\\src\\optimise\\train.jl:154\n",
      "┌ Info: Epoch 29\n",
      "└ @ Main C:\\Users\\surface\\.julia\\packages\\Flux\\6Q5r4\\src\\optimise\\train.jl:154\n",
      "┌ Info: Epoch 30\n",
      "└ @ Main C:\\Users\\surface\\.julia\\packages\\Flux\\6Q5r4\\src\\optimise\\train.jl:154\n",
      "┌ Info: Epoch 31\n",
      "└ @ Main C:\\Users\\surface\\.julia\\packages\\Flux\\6Q5r4\\src\\optimise\\train.jl:154\n",
      "┌ Info: Epoch 32\n",
      "└ @ Main C:\\Users\\surface\\.julia\\packages\\Flux\\6Q5r4\\src\\optimise\\train.jl:154\n",
      "┌ Info: Epoch 33\n",
      "└ @ Main C:\\Users\\surface\\.julia\\packages\\Flux\\6Q5r4\\src\\optimise\\train.jl:154\n",
      "┌ Info: Epoch 34\n",
      "└ @ Main C:\\Users\\surface\\.julia\\packages\\Flux\\6Q5r4\\src\\optimise\\train.jl:154\n",
      "┌ Info: Epoch 35\n",
      "└ @ Main C:\\Users\\surface\\.julia\\packages\\Flux\\6Q5r4\\src\\optimise\\train.jl:154\n",
      "┌ Info: Epoch 36\n",
      "└ @ Main C:\\Users\\surface\\.julia\\packages\\Flux\\6Q5r4\\src\\optimise\\train.jl:154\n",
      "┌ Info: Epoch 37\n",
      "└ @ Main C:\\Users\\surface\\.julia\\packages\\Flux\\6Q5r4\\src\\optimise\\train.jl:154\n",
      "┌ Info: Epoch 38\n",
      "└ @ Main C:\\Users\\surface\\.julia\\packages\\Flux\\6Q5r4\\src\\optimise\\train.jl:154\n",
      "┌ Info: Epoch 39\n",
      "└ @ Main C:\\Users\\surface\\.julia\\packages\\Flux\\6Q5r4\\src\\optimise\\train.jl:154\n",
      "┌ Info: Epoch 40\n",
      "└ @ Main C:\\Users\\surface\\.julia\\packages\\Flux\\6Q5r4\\src\\optimise\\train.jl:154\n"
     ]
    },
    {
     "data": {
      "text/plain": [
       "Chain(\n",
       "  Dense(16 => 7, σ),                    \u001b[90m# 119 parameters\u001b[39m\n",
       ") "
      ]
     },
     "execution_count": 15,
     "metadata": {},
     "output_type": "execute_result"
    }
   ],
   "source": [
    "model_3 = nn_multiclass_classification_less(X_train, oh_y_train, 7)"
   ]
  },
  {
   "cell_type": "code",
   "execution_count": 16,
   "id": "ddc330c6",
   "metadata": {},
   "outputs": [
    {
     "name": "stdout",
     "output_type": "stream",
     "text": [
      "0.8777777777777778\n",
      "0.7272727272727273\n"
     ]
    }
   ],
   "source": [
    "cm_train_3 = confusionMatrix(predictall(model_3,X_train), y_train)\n",
    "cm_eval_3 = confusionMatrix(predictall(model_3,X_eval), y_eval)\n",
    "\n",
    "println(accuracy(cm_train_3, y_train))\n",
    "println(accuracy(cm_eval_3, y_eval))"
   ]
  },
  {
   "cell_type": "code",
   "execution_count": 18,
   "id": "e02504ae",
   "metadata": {},
   "outputs": [],
   "source": [
    "# I removed a layer from the neural network: Dense(d, 2*d, relu).\n",
    "# I rewired the remaining layer to the input: Dense(d, n_classes, sigmoid).\n",
    "# The training accuracy gets worse, but the test accuracy stays the same.\n",
    "# This might be because we have too few layers and parameters,\n",
    "# So the model cannot learn the complex features."
   ]
  }
 ],
 "metadata": {
  "kernelspec": {
   "display_name": "Julia 1.7.2",
   "language": "julia",
   "name": "julia-1.7"
  },
  "language_info": {
   "file_extension": ".jl",
   "mimetype": "application/julia",
   "name": "julia",
   "version": "1.7.2"
  }
 },
 "nbformat": 4,
 "nbformat_minor": 5
}
