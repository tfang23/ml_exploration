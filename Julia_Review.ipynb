{
 "cells": [
  {
   "cell_type": "markdown",
   "id": "35b61068",
   "metadata": {},
   "source": [
    "# Julia Review"
   ]
  },
  {
   "cell_type": "markdown",
   "id": "1a5a7d70",
   "metadata": {},
   "source": [
    "## Agenda:\n",
    "\n",
    "###    Installation\n",
    "Recommendation: Do not run julia in the cloud! There are some options like Google Colab, but we recommend against using them.\n",
    "\n",
    "####    Running julia using julia's interactive command-line REPL (Read, Eval, Print, Loop)\n",
    "\n",
    "####    Running julia from your favorite IDE\n",
    "Options: VS Code, etc.\n",
    "\n",
    "####    Using web-based editors like Jupyter notebooks\n",
    "Jupyter notebook requires Python to be installed. Then, you can use a package manager like pip to download jupyter notebook (pip install notebook). You can start your jupyter notebook form terminal with the command: jupyter notebook\n",
    "\n",
    "Anaconda navigator is a GUI option that bundles together different packages and different environments without command line\n",
    "\n",
    "### Julia tutorial\n",
    "\n",
    "### Importing packages, modules etc."
   ]
  },
  {
   "cell_type": "code",
   "execution_count": 1,
   "id": "71bda313",
   "metadata": {},
   "outputs": [],
   "source": [
    "# Adapted from Review notes by Ike Osafo Nkansah, Stanford University; based on tutorial online --\n",
    "# --> found at https://www.youtube.com/watch?v=sE67bP2PnOo\n",
    "# Full cheat sheet: - http://www.newthinktank.com/2018/10/julia-tutorial/\n",
    "\n",
    "# NB: Julia is 1-indexed like Matlab, unlike Python etc."
   ]
  },
  {
   "cell_type": "code",
   "execution_count": 2,
   "id": "810de4e4",
   "metadata": {},
   "outputs": [
    {
     "name": "stdout",
     "output_type": "stream",
     "text": [
      "s = 0\n",
      "s = \"Dog\"\n",
      "c1 = 'A'\n"
     ]
    },
    {
     "data": {
      "text/plain": [
       "'A': ASCII/Unicode U+0041 (category Lu: Letter, uppercase)"
      ]
     },
     "execution_count": 2,
     "metadata": {},
     "output_type": "execute_result"
    }
   ],
   "source": [
    "# ----- VARIABLES -----\n",
    "# Types are dynamically assigned and can be changed\n",
    "# Variables start with _, letters and then numbers, or !\n",
    "s = 0\n",
    "@show s\n",
    "\n",
    "s = \"Dog\"\n",
    "@show s\n",
    "\n",
    "# Chars store any UTF-8 unicode character\n",
    "c1 = 'A'\n",
    "@show c1"
   ]
  },
  {
   "cell_type": "code",
   "execution_count": 3,
   "id": "3707994e",
   "metadata": {},
   "outputs": [
    {
     "data": {
      "text/plain": [
       "0"
      ]
     },
     "execution_count": 3,
     "metadata": {},
     "output_type": "execute_result"
    }
   ],
   "source": [
    "# ----- DATA TYPES -----\n",
    "# You can assert a datatype and an error would be thrown\n",
    "# if you tried to assign an incorrect value\n",
    "\n",
    "function changeNum()\n",
    "    x::Int8 = 10\n",
    "    # x = \"Dog\"\n",
    "    x = 0\n",
    "end\n",
    "\n",
    "changeNum()"
   ]
  },
  {
   "cell_type": "code",
   "execution_count": 4,
   "id": "e474e741",
   "metadata": {},
   "outputs": [
    {
     "data": {
      "text/plain": [
       "true"
      ]
     },
     "execution_count": 4,
     "metadata": {},
     "output_type": "execute_result"
    }
   ],
   "source": [
    "# ----- DATA TYPES -----\n",
    "# Bool : true or false\n",
    "canDrive = true\n",
    "\n",
    "# ----- DATA TYPES -----\n",
    "# Int8 : -128 to 127\n",
    "# Int16 : −32,768 to 32,767\n",
    "# Int32 : −2,147,483,648 to 2,147,483,647\n",
    "# Int64 : −2^63 to 2^63 - 1\n",
    "# Float32, Float64, UInt8, UInt16, etc."
   ]
  },
  {
   "cell_type": "code",
   "execution_count": 5,
   "id": "d4e1d76e",
   "metadata": {},
   "outputs": [
    {
     "name": "stdout",
     "output_type": "stream",
     "text": [
      "5 + 4 = 9\n",
      "5 - 4 = 1\n",
      "5 * 4 = 20\n",
      "5 / 4 = 1.25\n",
      "5 % 4 = 1\n",
      "5 ^ 4 = 625\n",
      "round(3.5) = 4.0\n",
      "floor(3.5) = 3.0\n",
      "ceil(3.5) = 4.0\n",
      "abs(-3.5) = 3.5\n",
      "sqrt(100) = 10.0\n",
      "cbrt(100) = 4.641588833612779\n",
      "hypot(90,90) = 127.27922061357856\n",
      "exp(2) = 7.38905609893065\n",
      "log(100) = 4.605170185988092\n",
      "log2(100) = 6.643856189774724\n",
      "log10(100) = 2.0\n"
     ]
    }
   ],
   "source": [
    "# ----- MATH -----\n",
    "println(\"5 + 4 = \", (5 + 4))\n",
    "println(\"5 - 4 = \", (5 - 4))\n",
    "println(\"5 * 4 = \", (5 * 4))\n",
    "println(\"5 / 4 = \", (5 / 4))\n",
    "println(\"5 % 4 = \", (5 % 4))\n",
    "println(\"5 ^ 4 = \", (5 ^ 4))\n",
    "\n",
    "println(\"round(3.5) = \", round(3.5))\n",
    "println(\"floor(3.5) = \", floor(3.5))\n",
    "println(\"ceil(3.5) = \", round(3.5))\n",
    "println(\"abs(-3.5) = \", abs(-3.5))\n",
    "println(\"sqrt(100) = \", sqrt(100))\n",
    "println(\"cbrt(100) = \", cbrt(100))\n",
    "println(\"hypot(90,90) = \", hypot(90,90))\n",
    "println(\"exp(2) = \", exp(2))\n",
    "println(\"log(100) = \", log(100))\n",
    "println(\"log2(100) = \", log2(100))\n",
    "println(\"log10(100) = \", log10(100))\n",
    "\n",
    "# Trig Functions : sin, cos, tan, cot, sec, csc\n",
    "# sinh, cosh, tanh, coth, sech, csch\n",
    "# asin, acos, atan, acot, asec, acsc\n",
    "# asinh, acosh, atanh, acoth, asech, acsch\n",
    "# sinc, cosc"
   ]
  },
  {
   "cell_type": "code",
   "execution_count": 6,
   "id": "b07d4553",
   "metadata": {},
   "outputs": [
    {
     "name": "stdout",
     "output_type": "stream",
     "text": [
      "s1 = \"Welcome to EE104\"\n",
      "length(s1) = 16\n",
      "s1[1] = 'W'\n",
      "s1[end] = '4'\n",
      "s1[1:4] = \"Welc\"\n",
      "string(\"Machine\", \" Learning\") = \"Machine Learning\"\n",
      "\"Machine\" * \" Learning\" = \"Machine Learning\"\n",
      "\"$(i3) + $(i4) = $(i3 + i4)\" = \"2 + 3 = 5\"\n",
      "s3 = \"I\\nhave\\nmany\\nlines\"\n",
      "\"Machine\" < \"Learning\" = false\n",
      "occursin(\"Welcome\", s1) = true\n"
     ]
    },
    {
     "data": {
      "text/plain": [
       "true"
      ]
     },
     "execution_count": 6,
     "metadata": {},
     "output_type": "execute_result"
    }
   ],
   "source": [
    "# ----- STRINGS -----\n",
    "# are like list of characters, which are immutable\n",
    "s1 = \"Welcome to EE104\"\n",
    "@show s1\n",
    "\n",
    "# Size of string\n",
    "@show length(s1)\n",
    "\n",
    "# The 1st index is at 1\n",
    "@show s1[1]\n",
    "\n",
    "# Get last character\n",
    "@show s1[end] # In python: s1[-1]\n",
    "\n",
    "# Get a range\n",
    "@show s1[1:4] # In python s1[1:4] includes 1, 2, 3 -> [1,4)\n",
    "\n",
    "# Concatenation\n",
    "@show string(\"Machine\", \" Learning\")\n",
    "\n",
    "# And\n",
    "@show \"Machine\" * \" Learning\"\n",
    "\n",
    "# Interpolation\n",
    "i3 = 2\n",
    "i4 = 3\n",
    "@show \"$i3 + $i4 = $(i3 + i4)\"\n",
    "\n",
    "# Multiline strings\n",
    "s3 = \"\"\"I\n",
    "        have\n",
    "        many\n",
    "        lines\"\"\"\n",
    "@show s3\n",
    "\n",
    "# String comparisons with ==, >, <, !=, >=, <=\n",
    "@show \"Machine\" < \"Learning\"\n",
    "\n",
    "# Find a substring\n",
    "@show occursin(\"Welcome\", s1)"
   ]
  },
  {
   "cell_type": "code",
   "execution_count": 7,
   "id": "c434adfb",
   "metadata": {},
   "outputs": [
    {
     "name": "stdout",
     "output_type": "stream",
     "text": [
      "zeros(Int32, 2) = Int32[0, 0]\n",
      "zeros(2) = [0.0, 0.0]\n",
      "Array{Int32}(undef, 5) = Int32[1805648352, 0, 1804759680, 0, 1800673824]\n",
      "Array{Int32}(UndefInitializer(), 5) = Int32[1868709632, 0, 281013344, 0, 311230768]\n",
      "Float64[] = Float64[]\n",
      "[1, 2, 3] = [1, 2, 3]\n",
      "a4[1] = 1\n",
      "a4[end] = 3\n",
      "1 in a4 = true\n",
      "5 in a4 = false\n"
     ]
    },
    {
     "data": {
      "text/plain": [
       "false"
      ]
     },
     "execution_count": 7,
     "metadata": {},
     "output_type": "execute_result"
    }
   ],
   "source": [
    "# ----- ARRAYS -----\n",
    "# Create an array of zeros\n",
    "# syntax: zeros(datatype, size_of_array)\n",
    "@show zeros(Int32, 2)\n",
    "@show zeros(2)\n",
    "\n",
    "# Create array of Int32s\n",
    "# undef is of type UndefInitializer\n",
    "# UndefInitializer - Singleton type used in array initialization, indicating the array-constructor-caller \n",
    "# would like an uninitialized array. See also undef, an alias for UndefInitializer().\n",
    "@show Array{Int32}(undef, 5)\n",
    "@show Array{Int32}(UndefInitializer(), 5)\n",
    "\n",
    "# Or like this -> initializes empty array\n",
    "@show Float64[]\n",
    "# You can then use the push function to fill the array (like Python's append function)\n",
    "\n",
    "# Create an array\n",
    "@show [1,2,3]\n",
    "a4 = [1,2,3]\n",
    "\n",
    "# Get value at index\n",
    "@show a4[1]\n",
    "\n",
    "# Get last value\n",
    "@show a4[end]\n",
    "\n",
    "# Check if value exists\n",
    "@show 1 in a4\n",
    "@show 5 in a4"
   ]
  },
  {
   "cell_type": "code",
   "execution_count": 8,
   "id": "cf30d73a",
   "metadata": {},
   "outputs": [
    {
     "name": "stdout",
     "output_type": "stream",
     "text": [
      "a4 = [1, 2, 3]\n",
      "findall(f, a4) = [2, 3]\n",
      "count(f, a4) = 2\n",
      "size(a4) = (3,)\n",
      "length(a4) = 3\n",
      "sum(a4) = 6\n"
     ]
    },
    {
     "data": {
      "text/plain": [
       "6"
      ]
     },
     "execution_count": 8,
     "metadata": {},
     "output_type": "execute_result"
    }
   ],
   "source": [
    "# Find all matches using a generic function\n",
    "@show a4\n",
    "\n",
    "f(a) = (a >= 2) ? true : false\n",
    "@show findall(f, a4)\n",
    "\n",
    "# How many items pass the test\n",
    "@show count(f, a4)\n",
    "\n",
    "# Get row and column size\n",
    "@show size(a4)\n",
    "\n",
    "# Get number of elements\n",
    "@show length(a4)\n",
    "\n",
    "# Sum values\n",
    "@show sum(a4)"
   ]
  },
  {
   "cell_type": "code",
   "execution_count": 9,
   "id": "c10868b2",
   "metadata": {},
   "outputs": [
    {
     "name": "stdout",
     "output_type": "stream",
     "text": [
      "a4 = [10, 20, 30]\n",
      "splice!(a4, 2:1, [8, 9]) = Int64[]\n",
      "insertion using splice: [10, 8, 9, 20, 30]\n",
      "splice!(a4, 2:3) = [8, 9]\n",
      "result of splicing a4: [10, 20, 30]\n"
     ]
    }
   ],
   "source": [
    "a4 = [10,20,30]\n",
    "@show a4\n",
    "# Put values starting at 2nd index\n",
    "# if index range is increasing, it removes elements in the index range\n",
    "# and inserts from lower bound of range onwards ...\n",
    "# override this by using a decreasing range ... [Julia-defined functionality]\n",
    "\n",
    "# @show splice!(a4, 2, [8])\n",
    "# @show a4\n",
    "\n",
    "@show splice!(a4, 2:1, [8,9])\n",
    "println(\"insertion using splice: \", a4)\n",
    "\n",
    "# Remove items at index 2 through 3\n",
    "@show splice!(a4, 2:3)\n",
    "println(\"result of splicing a4: \", a4)"
   ]
  },
  {
   "cell_type": "code",
   "execution_count": 10,
   "id": "75d6b8ad",
   "metadata": {
    "scrolled": true
   },
   "outputs": [
    {
     "name": "stdout",
     "output_type": "stream",
     "text": [
      "maximum(a4) = 30\n",
      "minimum(a4) = 10\n",
      "a4 = [10, 20, 30]\n",
      "a4 * 2 = [20, 40, 60]\n",
      "[1, 3.14, \"Hello\"] = Any[1, 3.14, \"Hello\"]\n",
      "begin\n",
      "    #= In[10]:16 =#\n",
      "    a6 = [sin, cos, tan]\n",
      "    #= In[10]:17 =#\n",
      "    for n = a6\n",
      "        #= In[10]:18 =#\n",
      "        nothing\n",
      "    end\n",
      "end = nothing\n",
      "collect(1:5) = [1, 2, 3, 4, 5]\n",
      "1:5 = 1:5\n",
      "collect(2:2:10) = [2, 4, 6, 8, 10]\n",
      "\n",
      "Array/List comprehension like Python ...\n",
      "a10 = [n ^ 2 for n = 1:5] = [1, 4, 9, 16, 25]\n",
      "push!(a10, 36) = [1, 4, 9, 16, 25, 36]\n"
     ]
    },
    {
     "data": {
      "text/plain": [
       "6-element Vector{Int64}:\n",
       "  1\n",
       "  4\n",
       "  9\n",
       " 16\n",
       " 25\n",
       " 36"
      ]
     },
     "execution_count": 10,
     "metadata": {},
     "output_type": "execute_result"
    }
   ],
   "source": [
    "# Get max & min value\n",
    "@show maximum(a4)\n",
    "@show minimum(a4)\n",
    "\n",
    "# broadcasting operations\n",
    "# Perform calculations on an array without looping\n",
    "@show a4\n",
    "@show a4 * 2\n",
    "\n",
    "# You can use multiple types or Any\n",
    "@show [1, 3.14, \"Hello\"]\n",
    "\n",
    "# A single expression which evaluates several subexpressions in order, \n",
    "# returning the value of the last subexpression as its value\n",
    "@show begin\n",
    "    a6 = [sin, cos, tan]\n",
    "    for n in a6\n",
    "        nothing\n",
    "        #println(n)\n",
    "    end\n",
    "end\n",
    "\n",
    "# Or begin a6 = [sin, cos, tan]; println(n) end\n",
    "\n",
    "# Array from a range\n",
    "@show collect(1:5)\n",
    "@show 1:5\n",
    "@show collect(2:2:10)\n",
    "\n",
    "# Create a comprehension\n",
    "println(\"\\nArray/List comprehension like Python ...\")\n",
    "@show a10 = [n^2 for n in 1:5]\n",
    "@show push!(a10, 36) # appends to the end of the list/vector/array"
   ]
  },
  {
   "cell_type": "code",
   "execution_count": 11,
   "id": "37bd6e73",
   "metadata": {},
   "outputs": [
    {
     "name": "stdout",
     "output_type": "stream",
     "text": [
      "a11 = [n * m for n = 1:5, m = 1:5] = [1 2 3 4 5; 2 4 6 8 10; 3 6 9 12 15; 4 8 12 16 20; 5 10 15 20 25]\n",
      "a12 = rand(0:9, 5, 5) = [7 5 7 6 2; 0 2 3 4 2; 3 9 5 5 6; 7 3 4 3 7; 6 1 7 5 0]\n",
      "a12Total = 109\n",
      "a12[:, 2] = [5, 2, 9, 3, 1]\n",
      "a12[2, :] = [0, 2, 3, 4, 2]\n",
      "size([1 2 3; 3 4 5]) = (2, 3)\n",
      "size(a13) = (2, 2)\n",
      "a13 = a13' = [1 3; 2 4]\n"
     ]
    },
    {
     "data": {
      "text/plain": [
       "2×2 adjoint(::Matrix{Int64}) with eltype Int64:\n",
       " 1  3\n",
       " 2  4"
      ]
     },
     "execution_count": 11,
     "metadata": {},
     "output_type": "execute_result"
    }
   ],
   "source": [
    "# Create a multidimensional array\n",
    "@show a11 = [n * m for n in 1:5, m in 1:5]\n",
    "\n",
    "# Generate a 5 by 5 random array with values between 0 - 9\n",
    "@show a12 = rand(0:9, 5, 5)\n",
    "\n",
    "a12Total = 0\n",
    "for n = 1:5\n",
    "    for m = 1:5\n",
    "        a12Total += a12[n, m]\n",
    "    end\n",
    "end\n",
    "@show a12Total\n",
    "\n",
    "### Slicing\n",
    "\n",
    "# Get every row in the 2nd column\n",
    "@show a12[:, 2]\n",
    "\n",
    "# display(a12[:, 1:2])\n",
    "\n",
    "# Every row 2nd column\n",
    "@show a12[2, :]\n",
    "\n",
    "# creating multidimensional arrays ...\n",
    "@show size([1 2 3; 3 4 5])\n",
    "a13 = [[1 2]; [3 4]]\n",
    "@show size(a13)\n",
    "\n",
    "# Transpose\n",
    "@show a13 = a13' # take the transpose\n",
    "# display(a13)\n",
    "\n",
    "# display(a13')"
   ]
  },
  {
   "cell_type": "code",
   "execution_count": 12,
   "id": "4036988b",
   "metadata": {},
   "outputs": [
    {
     "name": "stdout",
     "output_type": "stream",
     "text": [
      "(a14, a15) = ([1; 2], [3; 4]) = ([1, 2], [3, 4])\n",
      "a14' * a15 = 11\n",
      "dot(a14, a15) = 11\n",
      "a13 * a14 = [7, 10]\n",
      "inv(a13) = [-1.9999999999999996 1.4999999999999998; 0.9999999999999998 -0.4999999999999999]\n"
     ]
    },
    {
     "data": {
      "text/plain": [
       "2×2 adjoint(::Matrix{Float64}) with eltype Float64:\n",
       " -2.0   1.5\n",
       "  1.0  -0.5"
      ]
     },
     "execution_count": 12,
     "metadata": {},
     "output_type": "execute_result"
    }
   ],
   "source": [
    "# matrix vector product\n",
    "# install packages -> type ']' in julia terminal\n",
    "\n",
    "using LinearAlgebra\n",
    "\n",
    "@show a14, a15 = [1; 2], [3; 4]\n",
    "\n",
    "@show a14' * a15\n",
    "@show dot(a14, a15)\n",
    "\n",
    "@show a13 * a14 # (2x2) x (2x1)\n",
    "@show inv(a13)\n",
    "\n",
    "# use the * function or the dot() function in the LinAlg library to do mat-vec or vec-vec inner product \n",
    "# when using * for dot product, ensure that the inner dimensions match for the operands ..."
   ]
  },
  {
   "cell_type": "code",
   "execution_count": 13,
   "id": "5668d436",
   "metadata": {},
   "outputs": [
    {
     "name": "stdout",
     "output_type": "stream",
     "text": [
      "You're in Middle School\n",
      "true || false = true\n",
      "!true = false\n",
      "Can I drive : true\n"
     ]
    }
   ],
   "source": [
    "# ----- CONDITIONALS -----\n",
    "# If, Else... unlike Python etc. switch statements are not supported\n",
    "# E.g.: authenticating a user by age ...\n",
    "using Printf\n",
    "\n",
    "age = 12\n",
    "if age >= 5 && age <= 6\n",
    "    println(\"You're in Kindergarten\")\n",
    "elseif age >= 7 && age <= 13\n",
    "    println(\"You're in Middle School\")\n",
    "elseif age >= 14 && age <= 18 \n",
    "    println(\"You're in High School\")\n",
    "else\n",
    "    println(\"Stay Home\")\n",
    "end\n",
    "\n",
    "@printf(\"true || false = %s\\n\", true || false ? \"true\" : \"false\")\n",
    "@printf(\"!true = %s\\n\", !true ? \"true\" : \"false\")\n",
    "\n",
    "age = 55\n",
    "@printf(\"Can I drive : %s\\n\", age > 16 ? \"true\" : \"false\")"
   ]
  },
  {
   "cell_type": "code",
   "execution_count": 14,
   "id": "66f1db2d",
   "metadata": {},
   "outputs": [
    {
     "name": "stdout",
     "output_type": "stream",
     "text": [
      "While loop: printing even numbers between 1 and 10\n",
      "2468\n",
      "For loop: printing numbers between 1 and 5\n",
      "135\n",
      "For loop: looping through an array\n",
      "246\n",
      "Nested looping\n",
      "(1, 2)\n",
      "(1, 4)\n",
      "(1, 6)\n",
      "(1, 8)\n",
      "(1, 10)\n",
      "(2, 2)\n",
      "(2, 4)\n",
      "(2, 6)\n",
      "(2, 8)\n",
      "(2, 10)\n",
      "(3, 2)\n",
      "(3, 4)\n",
      "(3, 6)\n",
      "(3, 8)\n",
      "(3, 10)\n",
      "(4, 2)\n",
      "(4, 4)\n",
      "(4, 6)\n",
      "(4, 8)\n",
      "(4, 10)\n",
      "(5, 2)\n",
      "(5, 4)\n",
      "(5, 6)\n",
      "(5, 8)\n",
      "(5, 10)\n"
     ]
    }
   ],
   "source": [
    "# ----- LOOPING -----\n",
    "# Julia looping constructs: for and while \n",
    "# How would you make a do...while?\n",
    "\n",
    "#E.g. print even numbers between 1 and 10\n",
    "println(\"While loop: printing even numbers between 1 and 10\")\n",
    "\n",
    "# do...while alternative\n",
    "# while true\n",
    "#     statements\n",
    "#     if (condition)\n",
    "#         break\n",
    "#     end\n",
    "# end\n",
    "\n",
    "i = 1\n",
    "\n",
    "while i < 20\n",
    "    if (i % 2) == 0\n",
    "        print(i)\n",
    "        global i += 1\n",
    "        continue # Skip the rest of the code in the loop\n",
    "    end\n",
    "\n",
    "    # Make the code use the global i\n",
    "    global i += 1\n",
    "\n",
    "    if i >= 10\n",
    "        break # Jump out of the loop\n",
    "    end\n",
    "end\n",
    "\n",
    "println(\"\\nFor loop: printing numbers between 1 and 5\")\n",
    "# Using a range with for loop\n",
    "# syntax -> for index_variable in start:step:end\n",
    "for i = 1:2:5\n",
    "    print(i)\n",
    "end\n",
    "\n",
    "println(\"\\nFor loop: looping through an array\")\n",
    "# Using an array\n",
    "for i in [2,4,6]\n",
    "    print(i)\n",
    "end\n",
    "\n",
    "println(\"\\nNested looping\")\n",
    "# Loop while iterating multiple variables\n",
    "# NB: j using a different step even numbers between 2 - 10 inclusive\n",
    "\n",
    "\n",
    "\n",
    "for i = 1:5, j = 2:2:10\n",
    "    println((i, j))\n",
    "end"
   ]
  },
  {
   "cell_type": "code",
   "execution_count": 15,
   "id": "58ba229b",
   "metadata": {},
   "outputs": [
    {
     "name": "stdout",
     "output_type": "stream",
     "text": [
      "1 + 2 = 3\n"
     ]
    }
   ],
   "source": [
    "# ----- FUNCTIONS -----\n",
    "# This is a single expression function\n",
    "getSum(x,y) = x + y\n",
    "\n",
    "x, y = 1, 2\n",
    "@printf(\"%d + %d = %d\\n\", x, y, getSum(x, y))"
   ]
  },
  {
   "cell_type": "code",
   "execution_count": 16,
   "id": "37d19962",
   "metadata": {},
   "outputs": [
    {
     "name": "stdout",
     "output_type": "stream",
     "text": [
      "x = 3\n",
      "x = 4\n",
      "x = 4\n"
     ]
    },
    {
     "data": {
      "text/plain": [
       "4"
      ]
     },
     "execution_count": 16,
     "metadata": {},
     "output_type": "execute_result"
    }
   ],
   "source": [
    "x = 3\n",
    "\n",
    "@show x\n",
    "\n",
    "function increment(x)\n",
    "    global x += 1\n",
    "    @show x\n",
    "end\n",
    "\n",
    "increment(x)\n",
    "\n",
    "@show x"
   ]
  },
  {
   "cell_type": "code",
   "execution_count": 17,
   "id": "fc1a5c05",
   "metadata": {},
   "outputs": [
    {
     "name": "stdout",
     "output_type": "stream",
     "text": [
      "Can't Vote Because age = 16\n",
      "canIVote() = nothing\n",
      "Can Vote Because age = 43\n",
      "canIVote(43) = nothing\n",
      "v1 = 5 = 5\n",
      "changeV1(v1) = 10\n",
      "v1 = 5\n",
      "changeV12() = 10\n",
      "v1 = 10\n"
     ]
    },
    {
     "data": {
      "text/plain": [
       "10"
      ]
     },
     "execution_count": 17,
     "metadata": {},
     "output_type": "execute_result"
    }
   ],
   "source": [
    "# Multiple expression functions\n",
    "# You can asign default values\n",
    "function canIVote(age=16)\n",
    "    if age > 18\n",
    "        println(\"Can Vote Because age = \", age)\n",
    "    else\n",
    "        println(\"Can't Vote Because age = \", age)\n",
    "    end\n",
    "end\n",
    "@show canIVote()\n",
    "@show canIVote(43)\n",
    "\n",
    "# Arguments are pass by value\n",
    "# You can use globals inside functions\n",
    "@show v1 = 5\n",
    "\n",
    "function changeV1(v1)\n",
    "    v1 = 10\n",
    "end\n",
    "\n",
    "@show changeV1(v1)\n",
    "@show v1\n",
    "\n",
    "function changeV12()\n",
    "    global v1 = 10\n",
    "end\n",
    "@show changeV12()\n",
    "@show v1"
   ]
  },
  {
   "cell_type": "code",
   "execution_count": 18,
   "id": "d91769ca",
   "metadata": {},
   "outputs": [
    {
     "name": "stdout",
     "output_type": "stream",
     "text": [
      "sum = 10\n",
      "getSum2(1, 2, 3, 4) = 10\n"
     ]
    },
    {
     "data": {
      "text/plain": [
       "10"
      ]
     },
     "execution_count": 18,
     "metadata": {},
     "output_type": "execute_result"
    }
   ],
   "source": [
    "# Variable arguments\n",
    "function getSum2(args...)\n",
    "    sum = 0\n",
    "    for a in args\n",
    "        sum += a\n",
    "    end\n",
    "    @show sum\n",
    "end\n",
    "@show getSum2(1,2,3,4)"
   ]
  },
  {
   "cell_type": "code",
   "execution_count": 19,
   "id": "bbafa1dc",
   "metadata": {},
   "outputs": [
    {
     "name": "stdout",
     "output_type": "stream",
     "text": [
      "next2(4) = (5, 6)\n",
      "mult3(6) = 18\n",
      "Func 1\n",
      "5 + 4 = 9\n",
      "Func 2\n",
      "5 + 4 = 9\n"
     ]
    }
   ],
   "source": [
    "# Return multiple values as a tuple ...\n",
    "function next2(val)\n",
    "    return (val + 1, val + 2)\n",
    "end\n",
    "@show next2(4)\n",
    "\n",
    "# Functions that return functions\n",
    "function makeMultiplier(num)\n",
    "    return function (x) return x * num end\n",
    "end\n",
    "\n",
    "mult3 = makeMultiplier(3) # 3*x\n",
    "@show mult3(6)\n",
    "\n",
    "# Handle different types of arguments\n",
    "# function overloading ...\n",
    "function getSum3(num1::Number, num2::Number)\n",
    "    println(\"Func 1\")\n",
    "    return num1 + num2\n",
    "end\n",
    "\n",
    "function getSum3(num1::String, num2::String)\n",
    "    println(\"Func 2\")\n",
    "    return parse(Int32, num1) + parse(Int32, num2)\n",
    "end\n",
    "\n",
    "println(\"5 + 4 = \", getSum3(5,4))\n",
    "println(\"5 + 4 = \", getSum3(\"5\",\"4\"))"
   ]
  },
  {
   "cell_type": "code",
   "execution_count": 20,
   "id": "4099a9d0",
   "metadata": {},
   "outputs": [
    {
     "name": "stdout",
     "output_type": "stream",
     "text": [
      "isequal('1') = Base.Fix2{typeof(isequal), Char}(isequal, '1')\n",
      "checkequal = (x->begin\n",
      "            #= In[20]:8 =#\n",
      "            x == '1'\n",
      "        end) = var\"#7#8\"()\n",
      "findfirst(isequal('1'), \"EE104\") = 3\n",
      "findfirst(checkequal, \"EE104\") = 3\n",
      "findfirst(is_equal, \"EE104\") = 3\n"
     ]
    },
    {
     "data": {
      "text/plain": [
       "3"
      ]
     },
     "execution_count": 20,
     "metadata": {},
     "output_type": "execute_result"
    }
   ],
   "source": [
    "#----- Function calls -------\n",
    "# Julia comes with a lot of great standard library functions\n",
    "# You can define your own functions -> lambda functions are also supported\n",
    "\n",
    "# Find index for character\n",
    "@show isequal('1')\n",
    "\n",
    "@show checkequal = x -> x == '1'\n",
    "\n",
    "function is_equal(x)\n",
    "    return x == '1'\n",
    "end\n",
    "\n",
    "@show findfirst(isequal('1'), \"EE104\")\n",
    "@show findfirst(checkequal, \"EE104\")\n",
    "@show findfirst(is_equal, \"EE104\")"
   ]
  },
  {
   "cell_type": "code",
   "execution_count": 21,
   "id": "e626361f",
   "metadata": {},
   "outputs": [
    {
     "name": "stdout",
     "output_type": "stream",
     "text": [
      "st1 = Set([\"Jim\", \"Pam\", \"Jim\"]) = Set([\"Pam\", \"Jim\"])\n",
      "push!(st1, \"Michael\") = Set([\"Pam\", \"Jim\", \"Michael\"])\n",
      "\"Dwight\" in st1 = false\n",
      "\"Michael\" in st1 = true\n",
      "st2 = Set([\"Stanley\", \"Meredith\", \"Jim\"]) = Set([\"Stanley\", \"Jim\", \"Meredith\"])\n",
      "union(st1, st2) = Set([\"Pam\", \"Stanley\", \"Jim\", \"Michael\", \"Meredith\"])\n",
      "intersect(st1, st2) = Set([\"Jim\"])\n",
      "setdiff(st1, st2) = Set([\"Pam\", \"Michael\"])\n"
     ]
    },
    {
     "data": {
      "text/plain": [
       "Set{String} with 2 elements:\n",
       "  \"Pam\"\n",
       "  \"Michael\""
      ]
     },
     "execution_count": 21,
     "metadata": {},
     "output_type": "execute_result"
    }
   ],
   "source": [
    "# ----- SETS -----\n",
    "# Sets are arrays with all unique values\n",
    "@show st1 = Set([\"Jim\", \"Pam\", \"Jim\"])\n",
    "\n",
    "# Add a value\n",
    "@show push!(st1, \"Michael\")\n",
    "\n",
    "# Check for value\n",
    "@show in(\"Dwight\", st1)\n",
    "@show in(\"Michael\", st1)\n",
    "\n",
    "# Combine sets\n",
    "@show st2 = Set([\"Stanley\", \"Meredith\", \"Jim\"])\n",
    "@show union(st1, st2)\n",
    "\n",
    "# Every item both sets have\n",
    "@show intersect(st1, st2)\n",
    "\n",
    "# Items in 1st, but not 2nd\n",
    "@show setdiff(st1, st2)"
   ]
  },
  {
   "cell_type": "code",
   "execution_count": 22,
   "id": "62df25d4",
   "metadata": {},
   "outputs": [
    {
     "name": "stdout",
     "output_type": "stream",
     "text": [
      "t1 = (1, 2, 3, 4)\n",
      "t1[1] = 1\n",
      "total = 10\n",
      "(t2[1])[1] = 1\n",
      "t3.sue = (\"Sue\", 100)\n"
     ]
    },
    {
     "data": {
      "text/plain": [
       "(\"Sue\", 100)"
      ]
     },
     "execution_count": 22,
     "metadata": {},
     "output_type": "execute_result"
    }
   ],
   "source": [
    "# ----- TUPLES -----\n",
    "# immutable list of elements ...\n",
    "t1 = (1,2,3,4)\n",
    "@show t1\n",
    "\n",
    "# Ge1t a value -> accessing elements much like an array/list\n",
    "@show t1[1]\n",
    "\n",
    "# @show t1[2] = 3 # Error\n",
    "\n",
    "# similar to arrays: loop through tuple\n",
    "total = 0\n",
    "for i in t1\n",
    "    total += i\n",
    "end\n",
    "@show total\n",
    "\n",
    "# Multidimensional tuple\n",
    "t2 = ((1,2), (3,4))\n",
    "@show t2[1][1]\n",
    "\n",
    "# Named tuple\n",
    "t3 = (sue = (\"Sue\", 100), paul = (\"Paul\", 23))\n",
    "@show t3.sue"
   ]
  },
  {
   "cell_type": "code",
   "execution_count": 23,
   "id": "b4b9e82e",
   "metadata": {},
   "outputs": [
    {
     "name": "stdout",
     "output_type": "stream",
     "text": [
      "d1 = Dict(\"e\" => 2.718, \"pi\" => 3.14)\n",
      "d1[\"pi\"] = 3.14\n",
      "d1[\"golden\"] = 1.618 = 1.618\n",
      "d1 = Dict(\"golden\" => 1.618, \"e\" => 2.718, \"pi\" => 3.14)\n",
      "delete!(d1, \"pi\") = Dict(\"golden\" => 1.618, \"e\" => 2.718)\n",
      "d1 = Dict(\"golden\" => 1.618, \"e\" => 2.718)\n",
      "haskey(d1, \"pi\") = false\n",
      "keys(d1) = [\"golden\", \"e\"]\n",
      "values(d1) = [1.618, 2.718]\n",
      "\"golden\" => 1.618\n",
      "golden:1.618\n",
      "\"e\" => 2.718\n",
      "e:2.718\n",
      "\n",
      "Destructuring the pair at looping time\n",
      "golden : 1.618\n",
      "e : 2.718\n"
     ]
    }
   ],
   "source": [
    "# ----- DICTIONARIES -----\n",
    "# Dictionaries are key value pairs; keys are unique\n",
    "d1 = Dict(\"pi\"=>3.14, \"e\"=>2.718)\n",
    "@show d1\n",
    "\n",
    "# Get value\n",
    "@show d1[\"pi\"]\n",
    "\n",
    "# Add a kv\n",
    "@show d1[\"golden\"] = 1.618\n",
    "@show d1\n",
    "\n",
    "# Delete a kv\n",
    "@show delete!(d1, \"pi\")\n",
    "@show d1\n",
    "\n",
    "# Check if key exists\n",
    "@show haskey(d1, \"pi\")\n",
    "\n",
    "# Display all keys\n",
    "@show keys(d1)\n",
    "\n",
    "# Display all values\n",
    "@show values(d1)\n",
    "\n",
    "# display both... kv -> pair (like a struct with fields first -> key, second -> value)\n",
    "for kv in d1\n",
    "    println(kv)\n",
    "    println(kv.first, \":\", kv.second)\n",
    "end\n",
    "\n",
    "println(\"\\nDestructuring the pair at looping time\")\n",
    "# Control display of kv\n",
    "for(key, value) in d1\n",
    "    println(key, \" : \", value)\n",
    "end"
   ]
  },
  {
   "cell_type": "markdown",
   "id": "343002e5",
   "metadata": {},
   "source": [
    "## Loading in HW data files"
   ]
  },
  {
   "cell_type": "code",
   "execution_count": 24,
   "id": "fcb590ab",
   "metadata": {},
   "outputs": [
    {
     "data": {
      "text/plain": [
       "Dict{Any, Any} with 2 entries:\n",
       "  \"A\" => [0.0 0.0 … 0.0 0.0; 0.0 0.0 … 0.0 0.0; … ; 0.0 1.0 … 0.0 0.0; 0.0 0.0 …\n",
       "  \"n\" => 20"
      ]
     },
     "execution_count": 24,
     "metadata": {},
     "output_type": "execute_result"
    }
   ],
   "source": [
    "include(\"readclassjson.jl\")\n",
    "\n",
    "# data = readclassjson(\"relative path to the data file\")\n",
    "data = readclassjson(\"filename.json\")"
   ]
  },
  {
   "cell_type": "code",
   "execution_count": 25,
   "id": "abeef5fc",
   "metadata": {},
   "outputs": [
    {
     "name": "stdout",
     "output_type": "stream",
     "text": [
      "A = [0.0 0.0 0.0 0.0 0.0 1.0 0.0 0.0 0.0 0.0 0.0 1.0 1.0 0.0 0.0 0.0 0.0 0.0 0.0 0.0; 0.0 0.0 0.0 0.0 0.0 0.0 0.0 0.0 0.0 1.0 0.0 0.0 0.0 0.0 1.0 0.0 0.0 0.0 0.0 0.0; 1.0 0.0 0.0 0.0 0.0 1.0 1.0 0.0 0.0 0.0 0.0 0.0 0.0 0.0 0.0 0.0 0.0 0.0 0.0 0.0; 0.0 0.0 0.0 0.0 0.0 0.0 0.0 1.0 0.0 0.0 0.0 0.0 0.0 0.0 0.0 1.0 0.0 1.0 0.0 0.0; 0.0 0.0 1.0 0.0 0.0 0.0 0.0 0.0 0.0 0.0 0.0 0.0 0.0 1.0 0.0 0.0 0.0 1.0 0.0 0.0; 0.0 0.0 0.0 0.0 0.0 0.0 0.0 0.0 0.0 0.0 0.0 0.0 1.0 0.0 0.0 0.0 0.0 0.0 1.0 0.0; 1.0 0.0 0.0 0.0 0.0 0.0 0.0 0.0 0.0 0.0 0.0 0.0 0.0 0.0 1.0 0.0 0.0 0.0 0.0 0.0; 0.0 0.0 0.0 0.0 0.0 0.0 0.0 0.0 0.0 0.0 0.0 0.0 0.0 0.0 0.0 0.0 1.0 0.0 0.0 0.0; 0.0 0.0 0.0 0.0 0.0 0.0 0.0 1.0 0.0 0.0 0.0 0.0 0.0 0.0 0.0 0.0 0.0 0.0 0.0 0.0; 0.0 0.0 0.0 0.0 0.0 0.0 0.0 0.0 1.0 0.0 0.0 0.0 0.0 0.0 0.0 0.0 0.0 0.0 0.0 0.0; 0.0 0.0 0.0 0.0 0.0 0.0 0.0 0.0 1.0 1.0 0.0 0.0 0.0 0.0 1.0 0.0 0.0 0.0 0.0 0.0; 0.0 0.0 0.0 0.0 0.0 0.0 0.0 0.0 0.0 1.0 1.0 0.0 0.0 0.0 0.0 0.0 0.0 0.0 1.0 0.0; 0.0 0.0 0.0 0.0 0.0 0.0 0.0 0.0 0.0 0.0 0.0 1.0 0.0 0.0 0.0 0.0 0.0 0.0 0.0 0.0; 0.0 0.0 1.0 0.0 0.0 0.0 0.0 0.0 0.0 0.0 0.0 0.0 0.0 0.0 0.0 0.0 0.0 0.0 0.0 1.0; 0.0 0.0 0.0 1.0 0.0 0.0 0.0 0.0 0.0 0.0 0.0 0.0 0.0 0.0 0.0 0.0 0.0 0.0 0.0 0.0; 0.0 0.0 0.0 0.0 1.0 0.0 0.0 0.0 0.0 0.0 0.0 0.0 0.0 0.0 0.0 0.0 0.0 0.0 0.0 0.0; 0.0 0.0 0.0 0.0 1.0 0.0 0.0 0.0 0.0 0.0 0.0 0.0 0.0 0.0 0.0 1.0 0.0 0.0 0.0 0.0; 0.0 0.0 0.0 0.0 0.0 0.0 0.0 0.0 0.0 0.0 0.0 0.0 0.0 0.0 0.0 0.0 0.0 0.0 0.0 1.0; 0.0 1.0 0.0 0.0 0.0 0.0 0.0 0.0 0.0 0.0 0.0 0.0 0.0 0.0 0.0 0.0 0.0 0.0 0.0 0.0; 0.0 0.0 0.0 0.0 0.0 1.0 0.0 0.0 1.0 0.0 0.0 0.0 0.0 0.0 0.0 0.0 0.0 0.0 0.0 0.0]\n",
      "n = 20\n"
     ]
    },
    {
     "data": {
      "text/plain": [
       "20"
      ]
     },
     "execution_count": 25,
     "metadata": {},
     "output_type": "execute_result"
    }
   ],
   "source": [
    "# \"A\" will be defined in the .json file\n",
    "A = data[\"A\"]\n",
    "n = data[\"n\"]\n",
    "\n",
    "@show A\n",
    "@show n\n",
    "# display(A)\n",
    "# display(n)"
   ]
  },
  {
   "cell_type": "code",
   "execution_count": 26,
   "id": "087b4c3c",
   "metadata": {},
   "outputs": [
    {
     "name": "stdout",
     "output_type": "stream",
     "text": [
      "A -> Matrix{Float64}\n",
      "n -> Int64\n"
     ]
    }
   ],
   "source": [
    "# helpful when you have a large json file and can't scroll \n",
    "# through the entire file to locate all the variables ...\n",
    "# prints out all the different keys and their types within \n",
    "for key in keys(data)\n",
    "    println(\"$key -> $(typeof(data[key]))\")\n",
    "end\n",
    "\n",
    "# Or you can used Ctrl+F"
   ]
  },
  {
   "cell_type": "markdown",
   "id": "23c244e6",
   "metadata": {},
   "source": [
    "# Resources\n",
    "\n",
    "Download Jupyter link: https://jupyter.org/install\n",
    "\n",
    "NOTE: Jupyter requires Python to have been installed\n",
    "      Download Python from https://www.python.org/downloads/\n",
    "\n",
    "First check to see if you can run python from your command prompt;\n",
    "\n",
    "Type python —-version, if that doesn’t work, then you need to have python as an environment variable\n",
    "\n",
    "Julia documentation: https://docs.julialang.org/en/v1/\n",
    "\n",
    "Julia Plotting library: https://docs.juliaplots.org/latest/input_data/\n",
    "\n",
    "Julia Random library: https://docs.julialang.org/en/v1/stdlib/Random/\n",
    "\n",
    "Julia Flux library: https://fluxml.ai/Flux.jl/stable/models/overview/\n",
    "\n",
    "Additional: Linear Algebra documentation: https://docs.julialang.org/en/v1/stdlib/LinearAlgebra/"
   ]
  },
  {
   "cell_type": "code",
   "execution_count": null,
   "id": "180da9b7",
   "metadata": {},
   "outputs": [],
   "source": []
  }
 ],
 "metadata": {
  "kernelspec": {
   "display_name": "Julia 1.7.2",
   "language": "julia",
   "name": "julia-1.7"
  },
  "language_info": {
   "file_extension": ".jl",
   "mimetype": "application/julia",
   "name": "julia",
   "version": "1.7.2"
  }
 },
 "nbformat": 4,
 "nbformat_minor": 5
}
